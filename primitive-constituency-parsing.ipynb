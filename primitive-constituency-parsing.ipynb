{
 "cells": [
  {
   "cell_type": "code",
   "execution_count": 14,
   "metadata": {},
   "outputs": [],
   "source": [
    "import tensorflow as tf\n",
    "import tensorflow.contrib.eager as tfe\n",
    "import numpy as np\n",
    "import pandas as pd\n",
    "import pickle\n",
    "from timeit import default_timer as timer\n",
    "import matplotlib.pyplot as plt\n",
    "\n",
    "import sklearn\n",
    "from sklearn.model_selection import train_test_split\n",
    "import nltk as nltk\n",
    "\n",
    "import os"
   ]
  },
  {
   "cell_type": "markdown",
   "metadata": {},
   "source": [
    "# Enabling eager execution "
   ]
  },
  {
   "cell_type": "code",
   "execution_count": 15,
   "metadata": {},
   "outputs": [],
   "source": [
    "tf.enable_eager_execution()"
   ]
  },
  {
   "cell_type": "markdown",
   "metadata": {},
   "source": [
    "# Load Glove vectors"
   ]
  },
  {
   "cell_type": "code",
   "execution_count": 16,
   "metadata": {},
   "outputs": [
    {
     "name": "stdout",
     "output_type": "stream",
     "text": [
      "(1965717, 11)\n",
      "     0         1         2         3         4         5         6         7   \\\n",
      "0  </s>  0.001129 -0.000896  0.000319  0.001534  0.001106 -0.001404 -0.000031   \n",
      "1    ##  0.168945 -0.062988 -0.000265  0.063477  0.087402 -0.030029  0.001450   \n",
      "2  ####  0.107910  0.094238 -0.018555 -0.018799 -0.007111 -0.139648 -0.046631   \n",
      "3     $  0.113770 -0.117676  0.064941  0.132812  0.054932 -0.099121  0.071289   \n",
      "4   ###  0.149414 -0.191406  0.044189  0.104980  0.016846 -0.135742 -0.085449   \n",
      "\n",
      "         8         9         10  \n",
      "0 -0.000420 -0.000576  0.001076  \n",
      "1 -0.077637  0.199219 -0.001770  \n",
      "2 -0.063965  0.098145  0.135742  \n",
      "3 -0.013306  0.271484 -0.083984  \n",
      "4  0.074219  0.088867 -0.044922  \n"
     ]
    }
   ],
   "source": [
    "UNK = '</s>'\n",
    "\n",
    "dirname = os.getcwd()\n",
    "googlePath = os.path.join(dirname, 'datasets/')\n",
    "outfile = googlePath +'google_word_corpus.pic'\n",
    "\n",
    "with open(outfile, 'rb') as pickle_file:    \n",
    "    googleCorpus, google_corpus_word_to_int, google_corpus_int_to_word = pickle.load(pickle_file)\n",
    "googleSet = pd.read_csv(googlePath+'GoogleNews-vectors-negative10.txt', sep=' ', header=None)\n",
    "print(googleSet.shape)\n",
    "print(googleSet.head())\n",
    "\n",
    "googleWords = googleSet.iloc[:,0:1]\n",
    "googleVectors = googleSet.iloc[:,1:]"
   ]
  },
  {
   "cell_type": "code",
   "execution_count": 17,
   "metadata": {},
   "outputs": [],
   "source": [
    "#UNK = '<unk>'\n",
    "\n",
    "#glovePath = '/media/kandy/hdd/master-thesis/datasets/'\n",
    "#outfile = glovePath +'glove_word_corpus.pic'\n",
    "\n",
    "#with open(outfile, 'rb') as pickle_file:    \n",
    "#    gloveCorpus, glove_corpus_word_to_int, glove_corpus_int_to_word = pickle.load(pickle_file)\n",
    "#gloveSet = pd.read_csv(glovePath+'glove.42B.10d.txt', sep=' ', header=None)\n",
    "#print(gloveSet.shape)\n",
    "#print(gloveSet.head())\n",
    "\n",
    "#gloveWords = gloveSet.iloc[:,0:1]\n",
    "#gloveVectors = gloveSet.iloc[:,1:]"
   ]
  },
  {
   "cell_type": "markdown",
   "metadata": {},
   "source": [
    "# Load training and test dataset"
   ]
  },
  {
   "cell_type": "code",
   "execution_count": 18,
   "metadata": {},
   "outputs": [
    {
     "data": {
      "text/html": [
       "<div>\n",
       "<style scoped>\n",
       "    .dataframe tbody tr th:only-of-type {\n",
       "        vertical-align: middle;\n",
       "    }\n",
       "\n",
       "    .dataframe tbody tr th {\n",
       "        vertical-align: top;\n",
       "    }\n",
       "\n",
       "    .dataframe thead th {\n",
       "        text-align: right;\n",
       "    }\n",
       "</style>\n",
       "<table border=\"1\" class=\"dataframe\">\n",
       "  <thead>\n",
       "    <tr style=\"text-align: right;\">\n",
       "      <th></th>\n",
       "      <th>sentence</th>\n",
       "      <th>tree</th>\n",
       "    </tr>\n",
       "  </thead>\n",
       "  <tbody>\n",
       "    <tr>\n",
       "      <th>0</th>\n",
       "      <td>pierre &lt;/s&gt; &lt;/s&gt; &lt;/s&gt; years old &lt;/s&gt; will join...</td>\n",
       "      <td>[[[(&lt;/s&gt; (&lt;/s&gt; pierre) (&lt;/s&gt; vinken)), (&lt;/s&gt; &lt;...</td>\n",
       "    </tr>\n",
       "    <tr>\n",
       "      <th>1</th>\n",
       "      <td>&lt;/s&gt; &lt;/s&gt; is chairman &lt;/s&gt; &lt;/s&gt; &lt;/s&gt; &lt;/s&gt; the ...</td>\n",
       "      <td>[[[(&lt;/s&gt; mr&lt;/s&gt;), (&lt;/s&gt; vinken)], [(&lt;/s&gt; is), ...</td>\n",
       "    </tr>\n",
       "    <tr>\n",
       "      <th>2</th>\n",
       "      <td>&lt;/s&gt; &lt;/s&gt; &lt;/s&gt; &lt;/s&gt; years old &lt;/s&gt; former chai...</td>\n",
       "      <td>[[[(&lt;/s&gt; (&lt;/s&gt; rudolph) (&lt;/s&gt; agnew)), (&lt;/s&gt; &lt;...</td>\n",
       "    </tr>\n",
       "    <tr>\n",
       "      <th>3</th>\n",
       "      <td>&lt;/s&gt; form &lt;/s&gt; asbestos once used * * &lt;/s&gt; mak...</td>\n",
       "      <td>[[[(&lt;/s&gt;\\n  (&lt;/s&gt;\\n    (&lt;/s&gt; (&lt;/s&gt; a) (&lt;/s&gt; fo...</td>\n",
       "    </tr>\n",
       "    <tr>\n",
       "      <th>4</th>\n",
       "      <td>the asbestos fiber &lt;/s&gt; &lt;/s&gt; &lt;/s&gt; is unusually...</td>\n",
       "      <td>[[[(&lt;/s&gt;\\n  (&lt;/s&gt; (&lt;/s&gt; the) (&lt;/s&gt; asbestos) (...</td>\n",
       "    </tr>\n",
       "  </tbody>\n",
       "</table>\n",
       "</div>"
      ],
      "text/plain": [
       "                                            sentence  \\\n",
       "0  pierre </s> </s> </s> years old </s> will join...   \n",
       "1  </s> </s> is chairman </s> </s> </s> </s> the ...   \n",
       "2  </s> </s> </s> </s> years old </s> former chai...   \n",
       "3  </s> form </s> asbestos once used * * </s> mak...   \n",
       "4  the asbestos fiber </s> </s> </s> is unusually...   \n",
       "\n",
       "                                                tree  \n",
       "0  [[[(</s> (</s> pierre) (</s> vinken)), (</s> <...  \n",
       "1  [[[(</s> mr</s>), (</s> vinken)], [(</s> is), ...  \n",
       "2  [[[(</s> (</s> rudolph) (</s> agnew)), (</s> <...  \n",
       "3  [[[(</s>\\n  (</s>\\n    (</s> (</s> a) (</s> fo...  \n",
       "4  [[[(</s>\\n  (</s> (</s> the) (</s> asbestos) (...  "
      ]
     },
     "execution_count": 18,
     "metadata": {},
     "output_type": "execute_result"
    }
   ],
   "source": [
    "treeDataframe = pd.read_csv(googlePath+'constituency-parsing-data-all-UNK.csv', sep=' ', header=None )\n",
    "treeDataframe.columns =['sentence', 'tree']\n",
    "treeDataframe['tree'] = treeDataframe['tree'].apply(nltk.Tree.fromstring)\n",
    "\n",
    "treeDataframe.head()"
   ]
  },
  {
   "cell_type": "code",
   "execution_count": 20,
   "metadata": {},
   "outputs": [
    {
     "data": {
      "text/html": [
       "<div>\n",
       "<style scoped>\n",
       "    .dataframe tbody tr th:only-of-type {\n",
       "        vertical-align: middle;\n",
       "    }\n",
       "\n",
       "    .dataframe tbody tr th {\n",
       "        vertical-align: top;\n",
       "    }\n",
       "\n",
       "    .dataframe thead th {\n",
       "        text-align: right;\n",
       "    }\n",
       "</style>\n",
       "<table border=\"1\" class=\"dataframe\">\n",
       "  <thead>\n",
       "    <tr style=\"text-align: right;\">\n",
       "      <th></th>\n",
       "      <th>sentence</th>\n",
       "      <th>tree</th>\n",
       "    </tr>\n",
       "  </thead>\n",
       "  <tbody>\n",
       "    <tr>\n",
       "      <th>0</th>\n",
       "      <td>[353287, 920150, 920150, 920150, 1131873, 1851...</td>\n",
       "      <td>[[[(&lt;/s&gt; (&lt;/s&gt; pierre) (&lt;/s&gt; vinken)), (&lt;/s&gt; &lt;...</td>\n",
       "    </tr>\n",
       "    <tr>\n",
       "      <th>1</th>\n",
       "      <td>[920150, 920150, 1025196, 261666, 920150, 9201...</td>\n",
       "      <td>[[[(&lt;/s&gt; mr&lt;/s&gt;), (&lt;/s&gt; vinken)], [(&lt;/s&gt; is), ...</td>\n",
       "    </tr>\n",
       "    <tr>\n",
       "      <th>2</th>\n",
       "      <td>[920150, 920150, 920150, 920150, 1131873, 1851...</td>\n",
       "      <td>[[[(&lt;/s&gt; (&lt;/s&gt; rudolph) (&lt;/s&gt; agnew)), (&lt;/s&gt; &lt;...</td>\n",
       "    </tr>\n",
       "    <tr>\n",
       "      <th>3</th>\n",
       "      <td>[920150, 1751421, 920150, 151538, 26198, 83139...</td>\n",
       "      <td>[[[(&lt;/s&gt;\\n  (&lt;/s&gt;\\n    (&lt;/s&gt; (&lt;/s&gt; a) (&lt;/s&gt; fo...</td>\n",
       "    </tr>\n",
       "    <tr>\n",
       "      <th>4</th>\n",
       "      <td>[1323513, 151538, 1349057, 920150, 920150, 920...</td>\n",
       "      <td>[[[(&lt;/s&gt;\\n  (&lt;/s&gt; (&lt;/s&gt; the) (&lt;/s&gt; asbestos) (...</td>\n",
       "    </tr>\n",
       "  </tbody>\n",
       "</table>\n",
       "</div>"
      ],
      "text/plain": [
       "                                            sentence  \\\n",
       "0  [353287, 920150, 920150, 920150, 1131873, 1851...   \n",
       "1  [920150, 920150, 1025196, 261666, 920150, 9201...   \n",
       "2  [920150, 920150, 920150, 920150, 1131873, 1851...   \n",
       "3  [920150, 1751421, 920150, 151538, 26198, 83139...   \n",
       "4  [1323513, 151538, 1349057, 920150, 920150, 920...   \n",
       "\n",
       "                                                tree  \n",
       "0  [[[(</s> (</s> pierre) (</s> vinken)), (</s> <...  \n",
       "1  [[[(</s> mr</s>), (</s> vinken)], [(</s> is), ...  \n",
       "2  [[[(</s> (</s> rudolph) (</s> agnew)), (</s> <...  \n",
       "3  [[[(</s>\\n  (</s>\\n    (</s> (</s> a) (</s> fo...  \n",
       "4  [[[(</s>\\n  (</s> (</s> the) (</s> asbestos) (...  "
      ]
     },
     "execution_count": 20,
     "metadata": {},
     "output_type": "execute_result"
    }
   ],
   "source": [
    "def convert_imdb_corpus_into_int(sentence):\n",
    "    words = sentence.split()\n",
    "    words_to_num = [google_corpus_word_to_int[word] for word in words]\n",
    "    return words_to_num\n",
    "\n",
    "treeDataframe_num = treeDataframe.copy()\n",
    "treeDataframe_num['sentence'] = treeDataframe_num['sentence'].apply(convert_imdb_corpus_into_int)\n",
    "treeDataframe_num.head()"
   ]
  },
  {
   "cell_type": "code",
   "execution_count": 21,
   "metadata": {},
   "outputs": [
    {
     "name": "stdout",
     "output_type": "stream",
     "text": [
      "(49, 2)\n",
      "(49159, 2)\n"
     ]
    }
   ],
   "source": [
    "treeDF_train, treeDF_test = sklearn.model_selection.train_test_split(treeDataframe_num, test_size=0.999)\n",
    "print(treeDF_train.shape)\n",
    "print(treeDF_test.shape)"
   ]
  },
  {
   "cell_type": "markdown",
   "metadata": {},
   "source": [
    "# Model and the Parameters"
   ]
  },
  {
   "cell_type": "code",
   "execution_count": 22,
   "metadata": {},
   "outputs": [],
   "source": [
    "STATE_SIZE = 10\n",
    "embeddings = tfe.Variable(name='embeddings', validate_shape= googleVectors.shape, \n",
    "                          initial_value=googleVectors.values, \n",
    "                          dtype=tf.float32, trainable=False)\n",
    "w = tfe.Variable(name='w', validate_shape=(2*googleVectors.shape[1], STATE_SIZE), \n",
    "                 initial_value=0.01 * tf.random_normal(shape=(2*googleVectors.shape[1], STATE_SIZE)),\n",
    "                 dtype=tf.float32)\n",
    "b = tfe.Variable(name='b', validate_shape=(1, STATE_SIZE),\n",
    "                 initial_value=0.01 * tf.random_normal(shape=(1, STATE_SIZE)),\n",
    "                 dtype=tf.float32)\n",
    "\n",
    "w_score = tfe.Variable(name='w_score', validate_shape=(STATE_SIZE, 1), \n",
    "                 initial_value=0.01 * tf.random_normal(shape=(STATE_SIZE, 1)),\n",
    "                 dtype=tf.float32)\n",
    "b_score = tfe.Variable(name='b_score', validate_shape=(1, 1),\n",
    "                 initial_value=0.01 * tf.random_normal(shape=(1, 1)),\n",
    "                 dtype=tf.float32)\n",
    "\n",
    "#print(w)\n",
    "#print(b)\n",
    "#print(w_score)\n",
    "#print(b_score)"
   ]
  },
  {
   "cell_type": "code",
   "execution_count": 23,
   "metadata": {},
   "outputs": [
    {
     "name": "stdout",
     "output_type": "stream",
     "text": [
      "(1965717, 10)\n",
      "tf.Tensor(\n",
      "[[ 0.09570312 -0.03881836  0.05883789  0.03930664 -0.01300049 -0.1484375\n",
      "   0.07568359 -0.13378906  0.2890625   0.00370789]], shape=(1, 10), dtype=float32)\n"
     ]
    }
   ],
   "source": [
    "print(embeddings.shape)\n",
    "lookup = tf.nn.embedding_lookup(embeddings, google_corpus_word_to_int['</s>'])\n",
    "lookup = tf.reshape(lookup, shape=(1, lookup.shape[0]))\n",
    "print(lookup)"
   ]
  },
  {
   "cell_type": "code",
   "execution_count": 24,
   "metadata": {},
   "outputs": [
    {
     "name": "stdout",
     "output_type": "stream",
     "text": [
      "['</s>', 'i', 'agree', '</s>', 'it', \"'s\", 'ridiculous', '</s>', '</s>', 'says', '*t*-2', 'mr</s>', 'boren', '</s>', 'and', 'indeed', 'by', 'now', 'ridiculous', 'may', 'be', 'the', 'only', 'way', '0', '*', 'to', 'describe', 'how', 'the', 'u</s></s></s>', 'decides', '*-4', 'to', 'take', '*rnr*-1', '--', 'or', 'rather', '</s>', '*-4', 'not', 'to', 'take', '*rnr*-1', '--', 'covert', 'action', '*t*-5', '*t*-3', '</s>']\n",
      "tf.Tensor(-0.21450391, shape=(), dtype=float32)\n"
     ]
    }
   ],
   "source": [
    "def compute_score_for_tree(tree, weights, embeddings, scores):\n",
    "    if(type(tree[0]) == type('a string')):\n",
    "        #print(tree.label() + ' : ' + tree[0])\n",
    "        word = tree[0].lower()\n",
    "        if(word not in google_corpus_word_to_int):\n",
    "            #print('missing word:',word)\n",
    "            word = '</s>'\n",
    "        word_vector = tf.nn.embedding_lookup(embeddings, google_corpus_word_to_int[word])\n",
    "        word_vector = tf.reshape(word_vector, shape=(1, word_vector.shape[0]))\n",
    "        return word_vector\n",
    "        #print('depth is reached !!!')\n",
    "        #return\n",
    "\n",
    "    #for i in range(len(tree)):\n",
    "    #    print('Inside tree : '+ tree[i].label())\n",
    "    #    compute_score_for_tree(tree[i], weights, embeddings)\n",
    "\n",
    "\n",
    "        \n",
    "    left = compute_score_for_tree(tree[0], weights, embeddings, scores)\n",
    "    if(len(tree) !=2):\n",
    "        return left\n",
    "\n",
    "    right = compute_score_for_tree(tree[1], weights, embeddings, scores)\n",
    "    words_concat = tf.concat([left, right], axis=0)\n",
    "    #print(words_concat.shape)\n",
    "    #print(left.shape, right.shape)\n",
    "    words_concat = tf.reshape(words_concat, shape=(1, left.shape[1] + right.shape[1]))\n",
    "    #print(words_concat)\n",
    "    z = tf.matmul(words_concat, weights[0]) + weights[1]\n",
    "    state_vec = tf.tanh(z)\n",
    "    \n",
    "    #print(state_vec)\n",
    "    score = tf.matmul(state_vec, weights[2]) + weights[3]\n",
    "    scores.append(score)\n",
    "    return state_vec\n",
    "    \n",
    "    \n",
    "for j in range(treeDF_train.shape[0]):\n",
    "    tree = treeDF_train.iat[j,1]\n",
    "    print(tree.leaves())\n",
    "    scores = []\n",
    "    tree.chomsky_normal_form()\n",
    "    compute_score_for_tree(tree[0], [w,b,w_score,b_score], embeddings, scores)\n",
    "    #print(sum(scores))\n",
    "    total_score = tf.reduce_sum(tf.stack(scores))\n",
    "    print(total_score)\n",
    "    break\n",
    "    \n"
   ]
  },
  {
   "cell_type": "code",
   "execution_count": 25,
   "metadata": {},
   "outputs": [
    {
     "name": "stdout",
     "output_type": "stream",
     "text": [
      "(S (NP I) (VP (V saw) (NP him)))\n",
      "(NP I)\n",
      "(VP (V saw) (NP him))\n",
      "(V saw)\n",
      "(NP him)\n"
     ]
    }
   ],
   "source": [
    "def compare_trees(actual, predicted):\n",
    "    actual_sub_trees = actual.subtrees()\n",
    "    \n",
    "    \n",
    "    total_count = 0.0 #len(actual_sub_trees)\n",
    "    match_count = 0.0\n",
    "    \n",
    "    for sub_tree in actual_sub_trees:\n",
    "        #print('Sub Tree:', sub_tree)\n",
    "        #print(predicted_sub_trees)\n",
    "        predicted_sub_trees = predicted.subtrees()\n",
    "        for temp_tree in predicted_sub_trees:\n",
    "            #print(' ', temp_tree)\n",
    "            if(sub_tree == temp_tree):\n",
    "                match_count = match_count + 1.0\n",
    "                break\n",
    "        total_count = total_count + 1.0\n",
    "        #break\n",
    "    #print('Match:', match_count,' Total:', total_count)\n",
    "    \n",
    "    return [match_count/total_count, match_count, total_count]\n",
    "\n",
    "#compare_trees(treeDF_train.iat[2,1], treeDF_train.iat[2,1])\n",
    "\n",
    "t1 = nltk.Tree.fromstring(\"(S (NP I) (VP (V saw) (NP him)))\")\n",
    "sub_trees = t1.subtrees()\n",
    "for sub_tree in sub_trees:\n",
    "    print(sub_tree)"
   ]
  },
  {
   "cell_type": "code",
   "execution_count": 26,
   "metadata": {},
   "outputs": [],
   "source": [
    "#t1 = nltk.Tree.fromstring(\"(S (NP I) (VP (V saw) (NP him)))\")\n",
    "#t2 = nltk.Tree.fromstring(\"(a (b I) (c (d saw) (e him)))\")\n",
    "\n",
    "#compare_trees(t1, t2)"
   ]
  },
  {
   "cell_type": "code",
   "execution_count": 27,
   "metadata": {},
   "outputs": [
    {
     "name": "stdout",
     "output_type": "stream",
     "text": [
      "Epoch :  0\n",
      "Training Accuracy :  0.4021814185297883\n",
      "Time taken to execute (seconds):  11.99361278500146\n"
     ]
    }
   ],
   "source": [
    "start = timer()\n",
    "optimizer = tf.train.GradientDescentOptimizer(learning_rate=0.1)\n",
    "epoch = 1\n",
    "\n",
    "# history to maintain variables,  losses and gradients\n",
    "variables_history = []\n",
    "variables_history.append([np.copy(w.numpy()), np.copy(b.numpy()),np.copy(w_score.numpy()),np.copy(b_score.numpy())])\n",
    "\n",
    "loss_history = []\n",
    "grad_history = []\n",
    "\n",
    "for i in range(epoch):\n",
    "    # to record the history of tensor computations\n",
    "    total_train_score = 0.0\n",
    "    total_train_count = 0.0\n",
    "    print('Epoch : ', i)\n",
    "    with tf.GradientTape() as tape:\n",
    "        # watching - is it necessary ???\n",
    "        #tape.watch([w,b,w_score,b_score])\n",
    "        for j in range(treeDF_train.shape[0]):\n",
    "            #print(j)\n",
    "            # get the word vectors based on the word ids (word id for each word)\n",
    "            words = tf.nn.embedding_lookup(embeddings, treeDF_train.iat[j,0])\n",
    "            end = timer()\n",
    "            #print('Time taken to lookup embeddings (seconds): ', end-start)\n",
    "            #words matrix - unstack\n",
    "            words_unstack = tf.unstack(words)\n",
    "            words_len = len(words_unstack)\n",
    "            pred_score_list = []\n",
    "            total_loss_list = []\n",
    "            predicted_tree = [nltk.Tree(UNK,[google_corpus_int_to_word[index]]) for index in treeDF_train.iat[j,0]]\n",
    "            \n",
    "            #loop until all the words are merged together\n",
    "            while(words_len > 1):\n",
    "                #compute scores for the list of word combinations\n",
    "                # for each word combination compute the score of it\n",
    "                scores = np.zeros(shape=(words_len-1, 1))\n",
    "                for k in range(words_len - 1):\n",
    "                    words_concat = tf.concat([words_unstack[k], words_unstack[k+1]], axis=0)\n",
    "                    #reshape the tensor to be a matrix with 1 row rather than vector\n",
    "                    words_concat = tf.reshape(words_concat, shape=(1, words_concat.shape[0]))\n",
    "                    # matrix computation and activation\n",
    "                    z = tf.matmul(words_concat, w) + b\n",
    "                    state_vec = tf.tanh(z)\n",
    "                    score = tf.matmul(state_vec, w_score) + b_score\n",
    "                    scores[k] = score\n",
    "                end = timer()\n",
    "                #print('Time taken to calculate all subsequent word combinations (seconds): ', end-start)\n",
    "                #print(scores)\n",
    "                #compare the scores and pick the maximum one. \n",
    "                max_score_index = np.argmax(scores) \n",
    "                pred_score_list.append(scores[max_score_index])\n",
    "                \n",
    "                # remove the words which is used to combine and replace with combined state vector\n",
    "                words_unstack.pop(max_score_index+1)\n",
    "                words_unstack.pop(max_score_index)\n",
    "                # statevector needs to be reshaped as matrix to update\n",
    "                state_vec_vector = tf.reshape(state_vec, shape = [state_vec.shape[1]])\n",
    "                words_unstack.insert(max_score_index, state_vec_vector)\n",
    "                words_len = len(words_unstack)\n",
    "                \n",
    "                right_tree = predicted_tree.pop(max_score_index+1)\n",
    "                left_tree = predicted_tree.pop(max_score_index)\n",
    "                predicted_tree.insert(max_score_index, nltk.Tree(UNK, [left_tree, right_tree]))\n",
    "                \n",
    "                end = timer()\n",
    "                #print('Time taken to make one decision (seconds): ', end-start)\n",
    "            end = timer()\n",
    "            #print('Time taken to forward loop (seconds): ', end-start)\n",
    "            # get the actual tree - convert it to chomsky normal form, and compute the score\n",
    "            act_score_list = []\n",
    "            tree = treeDF_train.iat[j,1]\n",
    "            tree.chomsky_normal_form()\n",
    "            compute_score_for_tree(tree[0], [w,b,w_score,b_score], embeddings, act_score_list)\n",
    "            end = timer()\n",
    "            #print('Time taken to chomsky calculation (seconds): ', end-start)\n",
    "            \n",
    "            # compute the total actual and predicted score. use the loss function as absolute difference\n",
    "            # the above is done for each training data and the loss are accumulated\n",
    "            total_act_score = tf.reduce_sum(tf.stack(act_score_list))\n",
    "            total_pred_score = tf.reduce_sum(tf.stack(pred_score_list))\n",
    "            loss = tf.losses.absolute_difference(total_act_score,  total_pred_score)\n",
    "            total_loss_list.append(loss)\n",
    "            #loss = tf.losses.sigmoid_cross_entropy(tf.constant(imdb_train.iat[j,1], shape=(1,1)), y_predict)\n",
    "            \n",
    "            total_train_score = total_train_score + compare_trees(tree[0], predicted_tree[0])[0]\n",
    "            total_train_count = total_train_count + 1\n",
    "            \n",
    "        #compute the average losses accompanying all training data\n",
    "        # compute the gradients and apply them on variables\n",
    "        total_loss = tf.reduce_mean(tf.stack(total_loss_list))\n",
    "        grads = tape.gradient(total_loss, [w,b,w_score,b_score])\n",
    "        #print(w[0])\n",
    "        grad_op = optimizer.apply_gradients(zip(grads, [w,b,w_score,b_score]), \n",
    "                                  global_step=tf.train.get_or_create_global_step())\n",
    "        #print(w[0])\n",
    "        #maintain the history of variables, losses and gradients\n",
    "        variables_history.append([np.copy(w.numpy()), np.copy(b.numpy()),np.copy(w_score.numpy()),np.copy(b_score.numpy())])\n",
    "        loss_history.append(np.copy(total_loss.numpy()))\n",
    "        grad_history.append([np.copy(grad.numpy()) for grad in grads])\n",
    "        #print(tf.train.get_or_create_global_step().numpy(),total_loss.numpy())\n",
    "        print('Training Accuracy : ', total_train_score/total_train_count)\n",
    "        \n",
    "    \n",
    "end = timer()\n",
    "print('Time taken to execute (seconds): ', end-start)"
   ]
  },
  {
   "cell_type": "code",
   "execution_count": 28,
   "metadata": {},
   "outputs": [
    {
     "data": {
      "image/png": "[encoded data removed]",
      "text/plain": [
       "Tree('</s>', [Tree('</s>', [Tree('</s>', [Tree('</s>', ['the']), Tree('</s>', ['official'])]), Tree('</s>|<</s>-</s>-</s>>', [Tree('</s>', ['</s>']), Tree('</s>|<</s>-</s>>', [Tree('</s>', [Tree('</s>', ['john']), Tree('</s>', ['devillars'])]), Tree('</s>', ['</s>'])])])]), Tree('</s>|<</s>-</s>>', [Tree('</s>', [Tree('</s>', ['asked']), Tree('</s>|<</s>-</s>-</s>>', [Tree('</s>', [Tree('</s>', ['clean']), Tree('</s>', ['harbors'])]), Tree('</s>|<</s>-</s>>', [Tree('</s>', [Tree('</s>', ['for']), Tree('</s>', [Tree('</s>', ['more']), Tree('</s>', ['information'])])]), Tree('</s>', [Tree('</s>', ['before']), Tree('</s>', [Tree('</s>', [Tree('</s>', ['*-1'])]), Tree('</s>', [Tree('</s>', ['ruling']), Tree('</s>', [Tree('</s>', ['on']), Tree('</s>', [Tree('</s>', [Tree('</s>', ['a']), Tree('</s>', ['permit'])]), Tree('</s>', [Tree('</s>', ['for']), Tree('</s>', [Tree('</s>', ['the']), Tree('</s>', ['site'])])])])])])])])])])]), Tree('</s>', ['</s>'])])])"
      ]
     },
     "execution_count": 28,
     "metadata": {},
     "output_type": "execute_result"
    }
   ],
   "source": [
    "tree[0]"
   ]
  },
  {
   "cell_type": "code",
   "execution_count": 29,
   "metadata": {},
   "outputs": [
    {
     "data": {
      "image/png": "[encoded data removed]",
      "text/plain": [
       "Tree('</s>', [Tree('</s>', [Tree('</s>', [Tree('</s>', ['the']), Tree('</s>', [Tree('</s>', [Tree('</s>', [Tree('</s>', ['official']), Tree('</s>', ['</s>'])]), Tree('</s>', [Tree('</s>', [Tree('</s>', ['john']), Tree('</s>', ['</s>'])]), Tree('</s>', ['</s>'])])]), Tree('</s>', [Tree('</s>', ['asked']), Tree('</s>', [Tree('</s>', [Tree('</s>', ['clean']), Tree('</s>', ['harbors'])]), Tree('</s>', ['for'])])])])]), Tree('</s>', [Tree('</s>', ['more']), Tree('</s>', [Tree('</s>', [Tree('</s>', [Tree('</s>', ['information']), Tree('</s>', ['before'])]), Tree('</s>', ['</s>'])]), Tree('</s>', ['ruling'])])])]), Tree('</s>', [Tree('</s>', ['on']), Tree('</s>', [Tree('</s>', ['</s>']), Tree('</s>', [Tree('</s>', [Tree('</s>', [Tree('</s>', ['permit']), Tree('</s>', ['for'])]), Tree('</s>', ['the'])]), Tree('</s>', [Tree('</s>', ['site']), Tree('</s>', ['</s>'])])])])])])"
      ]
     },
     "execution_count": 29,
     "metadata": {},
     "output_type": "execute_result"
    }
   ],
   "source": [
    "predicted_tree[0]"
   ]
  },
  {
   "cell_type": "code",
   "execution_count": 30,
   "metadata": {},
   "outputs": [
    {
     "data": {
      "text/plain": [
       "[0.45454545454545453, 20.0, 44.0]"
      ]
     },
     "execution_count": 30,
     "metadata": {},
     "output_type": "execute_result"
    }
   ],
   "source": [
    "compare_trees(tree[0], predicted_tree[0])"
   ]
  },
  {
   "cell_type": "code",
   "execution_count": 31,
   "metadata": {},
   "outputs": [
    {
     "data": {
      "text/plain": [
       "'the official </s> john devillars </s> asked clean harbors for more information before *-1 ruling on a permit for the site </s>'"
      ]
     },
     "execution_count": 31,
     "metadata": {},
     "output_type": "execute_result"
    }
   ],
   "source": [
    "' '.join(tree[0].leaves())"
   ]
  },
  {
   "cell_type": "markdown",
   "metadata": {},
   "source": [
    "* Improve parallelization through batch processing\n",
    "* Implement CMY algorithm to reuse the computed values\n",
    "* Preprocessing of tree (binary children, UNK words)\n",
    "\n",
    "* check for this tree ('morgenzon has long been a special domain of afrikanerdom </s>')\n",
    "* still missing word in compute_score_for_tree function. why? All preprocessign are good\n",
    "* Other hyper parameters\n",
    "\n",
    "* GPU usage"
   ]
  },
  {
   "cell_type": "markdown",
   "metadata": {},
   "source": [
    "* Increase no. of units\n",
    "* BEAM search\n",
    "* Involve the classification of subcategories\n",
    "* Assign different weights for different subcategories (atleast broader)"
   ]
  },
  {
   "cell_type": "code",
   "execution_count": null,
   "metadata": {},
   "outputs": [],
   "source": []
  }
 ],
 "metadata": {
  "kernelspec": {
   "display_name": "Python (nlp-master-thesis)",
   "language": "python",
   "name": "nlp-master-thesis"
  },
  "language_info": {
   "codemirror_mode": {
    "name": "ipython",
    "version": 3
   },
   "file_extension": ".py",
   "mimetype": "text/x-python",
   "name": "python",
   "nbconvert_exporter": "python",
   "pygments_lexer": "ipython3",
   "version": "3.6.8"
  }
 },
 "nbformat": 4,
 "nbformat_minor": 2
}
