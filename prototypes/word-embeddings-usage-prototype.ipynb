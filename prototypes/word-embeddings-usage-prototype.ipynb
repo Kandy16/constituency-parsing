{
 "cells": [
  {
   "cell_type": "code",
   "execution_count": 2,
   "metadata": {},
   "outputs": [],
   "source": [
    "import tensorflow as tf\n",
    "import pandas as pd\n",
    "from timeit import default_timer as timer\n",
    "import os"
   ]
  },
  {
   "cell_type": "code",
   "execution_count": 14,
   "metadata": {},
   "outputs": [
    {
     "name": "stdout",
     "output_type": "stream",
     "text": [
      "(1783088, 11)\n",
      "Time taken to load word embeddings (seconds):  7.706441365997307\n"
     ]
    }
   ],
   "source": [
    "start = timer()\n",
    "dirname = os.getcwd()\n",
    "dirname = os.path.dirname(dirname)\n",
    "dataset_path = os.path.join(dirname, 'datasets/')\n",
    "print(dataset_path)\n",
    "\n",
    "gloveVectors =  pd.read_csv(dataset_path+'glove.42B.10d.txt', sep=' ', header=None )\n",
    "print(gloveVectors.shape)\n",
    "\n",
    "words = gloveVectors.iloc[:,0:1]\n",
    "vectors = gloveVectors.iloc[:,1:]\n",
    "\n",
    "end = timer()\n",
    "print('Time taken to load word embeddings (seconds): ', end-start)"
   ]
  },
  {
   "cell_type": "code",
   "execution_count": 15,
   "metadata": {},
   "outputs": [],
   "source": [
    "tf.enable_eager_execution()"
   ]
  },
  {
   "cell_type": "code",
   "execution_count": 16,
   "metadata": {},
   "outputs": [],
   "source": [
    "embeddings = tf.get_variable(name='embeddings', shape = vectors.shape, initializer=tf.constant_initializer(vectors.values), dtype=tf.float32, trainable=False)\n",
    "W = tf.get_variable(name='W', shape=(vectors.shape[1], 1), dtype=tf.float32)\n",
    "b = tf.get_variable(name='W', shape=(1, 1), dtype=tf.float32)"
   ]
  },
  {
   "cell_type": "code",
   "execution_count": 17,
   "metadata": {},
   "outputs": [],
   "source": [
    "y_predict = tf.matmul(embeddings, W) + b"
   ]
  },
  {
   "cell_type": "code",
   "execution_count": 18,
   "metadata": {},
   "outputs": [
    {
     "data": {
      "text/plain": [
       "<tf.Tensor: id=124, shape=(1783088, 1), dtype=float32, numpy=\n",
       "array([[ 1.794288 ],\n",
       "       [ 2.1566005],\n",
       "       [ 1.5723072],\n",
       "       ...,\n",
       "       [-1.1710095],\n",
       "       [-1.2406161],\n",
       "       [-1.0229455]], dtype=float32)>"
      ]
     },
     "execution_count": 18,
     "metadata": {},
     "output_type": "execute_result"
    }
   ],
   "source": [
    "y_predict"
   ]
  },
  {
   "cell_type": "code",
   "execution_count": 19,
   "metadata": {},
   "outputs": [
    {
     "data": {
      "text/plain": [
       "<tf.Variable 'embeddings:0' shape=(1783088, 10) dtype=float32, numpy=\n",
       "array([[ 0.18378   , -0.12123   , -0.11987   , ...,  0.80795   ,\n",
       "         0.067338  , -0.13184   ],\n",
       "       [-0.20838   , -0.14932   , -0.017528  , ...,  0.62932   ,\n",
       "         0.33672   , -0.43395   ],\n",
       "       [ 0.10876   ,  0.0022438 ,  0.22213   , ..., -0.032631  ,\n",
       "        -0.62594   , -0.51898   ],\n",
       "       ...,\n",
       "       [-0.052387  ,  0.32142   ,  0.23242   , ..., -0.58411   ,\n",
       "        -0.091796  ,  0.51156   ],\n",
       "       [-0.11969   ,  0.1602    , -0.24917   , ..., -0.1943    ,\n",
       "         0.013091  ,  0.043389  ],\n",
       "       [-0.00719714,  0.03803429,  0.06750505, ..., -0.25077328,\n",
       "         0.07599969,  0.21972702]], dtype=float32)>"
      ]
     },
     "execution_count": 19,
     "metadata": {},
     "output_type": "execute_result"
    }
   ],
   "source": [
    "embeddings"
   ]
  },
  {
   "cell_type": "code",
   "execution_count": 21,
   "metadata": {},
   "outputs": [
    {
     "data": {
      "text/plain": [
       "<tf.Tensor: id=131, shape=(3, 10), dtype=float32, numpy=\n",
       "array([[ 1.8378e-01, -1.2123e-01, -1.1987e-01,  1.5227e-02, -1.9121e-01,\n",
       "        -6.6074e-02, -2.9876e+00,  8.0795e-01,  6.7338e-02, -1.3184e-01],\n",
       "       [-2.0838e-01, -1.4932e-01, -1.7528e-02, -2.8432e-02, -6.0104e-02,\n",
       "        -2.6460e-01, -4.1445e+00,  6.2932e-01,  3.3672e-01, -4.3395e-01],\n",
       "       [ 1.0876e-01,  2.2438e-03,  2.2213e-01, -1.2102e-01, -4.8959e-02,\n",
       "         1.8135e-02, -3.8174e+00, -3.2631e-02, -6.2594e-01, -5.1898e-01]],\n",
       "      dtype=float32)>"
      ]
     },
     "execution_count": 21,
     "metadata": {},
     "output_type": "execute_result"
    }
   ],
   "source": [
    "words = tf.nn.embedding_lookup(embeddings, [0, 1, 2])"
   ]
  }
 ],
 "metadata": {
  "kernelspec": {
   "display_name": "Python (nlp-master-thesis)",
   "language": "python",
   "name": "nlp-master-thesis"
  },
  "language_info": {
   "codemirror_mode": {
    "name": "ipython",
    "version": 3
   },
   "file_extension": ".py",
   "mimetype": "text/x-python",
   "name": "python",
   "nbconvert_exporter": "python",
   "pygments_lexer": "ipython3",
   "version": "3.6.8"
  }
 },
 "nbformat": 4,
 "nbformat_minor": 2
}
