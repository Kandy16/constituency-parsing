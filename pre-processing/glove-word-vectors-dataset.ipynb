{
 "cells": [
  {
   "cell_type": "code",
   "execution_count": 3,
   "metadata": {},
   "outputs": [],
   "source": [
    "import numpy as np\n",
    "import pandas as pd\n",
    "\n",
    "import os"
   ]
  },
  {
   "cell_type": "code",
   "execution_count": 4,
   "metadata": {},
   "outputs": [
    {
     "name": "stdout",
     "output_type": "stream",
     "text": [
      "/media/kandy/hdd/master-thesis/constituency-parsing/datasets/\n"
     ]
    }
   ],
   "source": [
    "dirname = os.getcwd()\n",
    "dirname = os.path.dirname(dirname)\n",
    "dataset_path = os.path.join(dirname, 'datasets/')\n",
    "print(dataset_path)"
   ]
  },
  {
   "cell_type": "code",
   "execution_count": 2,
   "metadata": {},
   "outputs": [
    {
     "name": "stdout",
     "output_type": "stream",
     "text": [
      "   0        1         2         3         4         5         6       7    \\\n",
      "0    ,  0.18378 -0.121230 -0.119870  0.015227 -0.191210 -0.066074 -2.9876   \n",
      "1  the -0.20838 -0.149320 -0.017528 -0.028432 -0.060104 -0.264600 -4.1445   \n",
      "2    .  0.10876  0.002244  0.222130 -0.121020 -0.048959  0.018135 -3.8174   \n",
      "3  and -0.09611 -0.257880 -0.358600 -0.328870  0.579500 -0.517740 -4.1582   \n",
      "4   to -0.24837 -0.454610  0.039227 -0.284220 -0.031852  0.263550 -4.6323   \n",
      "\n",
      "        8         9      ...          291       292       293       294  \\\n",
      "0  0.807950  0.067338    ...     0.136150  0.109990 -0.334740 -0.046109   \n",
      "1  0.629320  0.336720    ...    -0.041244 -0.461820  0.027903  0.546570   \n",
      "2 -0.032631 -0.625940    ...     0.063131 -0.212300 -0.300880 -0.451610   \n",
      "3 -0.113710 -0.108480    ...     0.477810 -0.021213 -0.212360  0.423740   \n",
      "4  0.013890 -0.539280    ...     0.082736 -0.624690  0.044267  0.606730   \n",
      "\n",
      "       295       296       297       298       299       300  \n",
      "0  0.10780 -0.035657 -0.012921 -0.039038  0.182740  0.146540  \n",
      "1 -0.25894  0.395150  0.261440 -0.540660  0.211990 -0.009436  \n",
      "2  0.26480  0.075971 -0.406880 -0.296960  0.159390 -0.149020  \n",
      "3  0.14083  0.067498 -0.126750 -0.370300 -0.092774  0.390580  \n",
      "4 -0.12458 -0.154430 -0.163390  0.053097  0.154580 -0.380530  \n",
      "\n",
      "[5 rows x 301 columns]\n"
     ]
    }
   ],
   "source": [
    "gloveVectors =  pd.read_csv(dataset_path+'glove.42B.300d.txt', sep=' ', header=None )\n",
    "#gloveVectors =  pd.read_csv('/media/kandy/hdd/master-thesis/datasets/glove.42B.100d.txt', sep=' ', header=None )\n",
    "#gloveVectors =  pd.read_csv('/media/kandy/hdd/master-thesis/datasets/glove.42B.10d.txt', sep=' ', header=None )\n",
    "\n",
    "print(gloveVectors.head())"
   ]
  },
  {
   "cell_type": "code",
   "execution_count": 3,
   "metadata": {},
   "outputs": [
    {
     "data": {
      "text/plain": [
       "(1783088, 301)"
      ]
     },
     "execution_count": 3,
     "metadata": {},
     "output_type": "execute_result"
    }
   ],
   "source": [
    "gloveVectors.shape"
   ]
  },
  {
   "cell_type": "code",
   "execution_count": 4,
   "metadata": {},
   "outputs": [
    {
     "data": {
      "text/plain": [
       "RangeIndex(start=0, stop=1783088, step=1)"
      ]
     },
     "execution_count": 4,
     "metadata": {},
     "output_type": "execute_result"
    }
   ],
   "source": [
    "gloveVectors.index"
   ]
  },
  {
   "cell_type": "code",
   "execution_count": 5,
   "metadata": {},
   "outputs": [
    {
     "data": {
      "text/plain": [
       "Int64Index([  0,   1,   2,   3,   4,   5,   6,   7,   8,   9,\n",
       "            ...\n",
       "            291, 292, 293, 294, 295, 296, 297, 298, 299, 300],\n",
       "           dtype='int64', length=301)"
      ]
     },
     "execution_count": 5,
     "metadata": {},
     "output_type": "execute_result"
    }
   ],
   "source": [
    "gloveVectors.columns"
   ]
  },
  {
   "cell_type": "code",
   "execution_count": 6,
   "metadata": {},
   "outputs": [
    {
     "name": "stdout",
     "output_type": "stream",
     "text": [
      "    0        1         2        3        4         5         6       7   \\\n",
      "2    .  0.10876  0.002244  0.22213 -0.12102 -0.048959  0.018135 -3.8174   \n",
      "3  and -0.09611 -0.257880 -0.35860 -0.32887  0.579500 -0.517740 -4.1582   \n",
      "\n",
      "         8        9        10  \n",
      "2 -0.032631 -0.62594 -0.51898  \n",
      "3 -0.113710 -0.10848 -0.48885  \n"
     ]
    }
   ],
   "source": [
    "sub = gloveVectors.iloc[2:4, 0:11]\n",
    "print(sub)"
   ]
  },
  {
   "cell_type": "code",
   "execution_count": 7,
   "metadata": {},
   "outputs": [
    {
     "name": "stdout",
     "output_type": "stream",
     "text": [
      "     0\n",
      "2    .\n",
      "3  and\n",
      "        1         2        3        4         5         6       7         8   \\\n",
      "2  0.10876  0.002244  0.22213 -0.12102 -0.048959  0.018135 -3.8174 -0.032631   \n",
      "3 -0.09611 -0.257880 -0.35860 -0.32887  0.579500 -0.517740 -4.1582 -0.113710   \n",
      "\n",
      "        9        10  \n",
      "2 -0.62594 -0.51898  \n",
      "3 -0.10848 -0.48885  \n"
     ]
    }
   ],
   "source": [
    "sub_token = gloveVectors.iloc[2:4, 0:1]\n",
    "sub_vectors = gloveVectors.iloc[2:4, 1:11]\n",
    "print(sub_token)\n",
    "print(sub_vectors)"
   ]
  },
  {
   "cell_type": "code",
   "execution_count": 9,
   "metadata": {},
   "outputs": [],
   "source": [
    "tokens = gloveVectors.iloc[:, 0:1]\n",
    "tokens = tokens.values.tolist()"
   ]
  },
  {
   "cell_type": "code",
   "execution_count": 10,
   "metadata": {},
   "outputs": [
    {
     "name": "stderr",
     "output_type": "stream",
     "text": [
      "IOPub data rate exceeded.\n",
      "The notebook server will temporarily stop sending output\n",
      "to the client in order to avoid crashing it.\n",
      "To change this limit, set the config variable\n",
      "`--NotebookApp.iopub_data_rate_limit`.\n",
      "\n",
      "Current values:\n",
      "NotebookApp.iopub_data_rate_limit=1000000.0 (bytes/sec)\n",
      "NotebookApp.rate_limit_window=3.0 (secs)\n",
      "\n"
     ]
    }
   ],
   "source": [
    "print(tokens)"
   ]
  },
  {
   "cell_type": "code",
   "execution_count": 18,
   "metadata": {},
   "outputs": [
    {
     "data": {
      "text/plain": [
       "str"
      ]
     },
     "execution_count": 18,
     "metadata": {},
     "output_type": "execute_result"
    }
   ],
   "source": [
    "tokens = [token[0].lower() for token in tokens]"
   ]
  },
  {
   "cell_type": "code",
   "execution_count": null,
   "metadata": {},
   "outputs": [],
   "source": [
    "words = ['Volume', '*ICH*-2', 'is', 'down', 'out', 'of', 'DCan', 'Francisco', 'DC', 'but', 'not', 'out', 'of', 'the', '11', 'outlying', 'offices', 'DC', 'DC', 'MrDC', 'Daggs', 'added', '*T*-1', 'DC']"
   ]
  },
  {
   "cell_type": "code",
   "execution_count": 44,
   "metadata": {},
   "outputs": [
    {
     "name": "stdout",
     "output_type": "stream",
     "text": [
      "added.the\n",
      "addedprice\n",
      "added-value\n",
      "addedalphabeticalrandom\n",
      "addedoct\n",
      "addednov\n",
      "addedbookmarkscollectionssend\n",
      "addedaug\n",
      "addedmay\n",
      "addedsep\n",
      "addedapr\n",
      "addedjul\n",
      "addedjun\n",
      "addedmar\n",
      "addedjan\n",
      "added/updated\n",
      "addeddec\n",
      "addedfeb\n",
      "added.in\n",
      "added/removed\n",
      "added-touch\n",
      "added.\n",
      "added-on\n",
      "addedmost\n",
      "added.he\n",
      "added/changed\n",
      "added.a\n",
      "added-at\n",
      "addedto\n",
      "added.but\n",
      "added.according\n",
      "addedd\n",
      "addedge\n",
      "added/tech\n",
      "added.i\n",
      "added.for\n",
      "added.it\n",
      "added-money\n",
      "added/modified\n",
      "addedthe\n",
      "added.rates\n",
      "addedfree\n",
      "added.this\n",
      "added/deleted\n",
      "added.on\n",
      "added1\n",
      "added.as\n",
      "added.meanwhile\n",
      "added-time\n",
      "addedyou\n",
      "added.mr\n",
      "added.however\n",
      "added.and\n",
      "addedthese\n",
      "added.if\n",
      "added.-tradearabia\n"
     ]
    }
   ],
   "source": [
    "search_word = 'added'\n",
    "if(search_word not in tokens):\n",
    "    for token in tokens:\n",
    "        if(token.startswith(search_word)):\n",
    "            print(token)\n",
    "else:\n",
    "    print('Found!!!')"
   ]
  },
  {
   "cell_type": "markdown",
   "metadata": {},
   "source": [
    "## Trimming down the size and save the toy and medium size datasets\n",
    "#### don't execute this unless you need to create them"
   ]
  },
  {
   "cell_type": "code",
   "execution_count": null,
   "metadata": {},
   "outputs": [],
   "source": [
    "toy_glove_vectors = gloveVectors.iloc[:, 0:11]\n",
    "print(toy_glove_vectors.shape)"
   ]
  },
  {
   "cell_type": "code",
   "execution_count": null,
   "metadata": {},
   "outputs": [],
   "source": [
    "toy_glove_vectors.to_csv(dataset_path+'glove.42B.10d.txt',header=False, index=False,sep=' ')"
   ]
  },
  {
   "cell_type": "code",
   "execution_count": null,
   "metadata": {},
   "outputs": [],
   "source": [
    "medium_glove_vectors = gloveVectors.iloc[:, 0:101]\n",
    "print(medium_glove_vectors.shape)"
   ]
  },
  {
   "cell_type": "code",
   "execution_count": null,
   "metadata": {},
   "outputs": [],
   "source": [
    "medium_glove_vectors.to_csv(dataset_path+'glove.42B.100d.txt',header=False, index=False,sep=' ')"
   ]
  }
 ],
 "metadata": {
  "kernelspec": {
   "display_name": "Python 3",
   "language": "python",
   "name": "python3"
  },
  "language_info": {
   "codemirror_mode": {
    "name": "ipython",
    "version": 3
   },
   "file_extension": ".py",
   "mimetype": "text/x-python",
   "name": "python",
   "nbconvert_exporter": "python",
   "pygments_lexer": "ipython3",
   "version": "3.7.0"
  }
 },
 "nbformat": 4,
 "nbformat_minor": 1
}
